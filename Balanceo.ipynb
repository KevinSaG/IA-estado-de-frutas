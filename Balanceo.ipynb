{
 "cells": [
  {
   "cell_type": "code",
   "execution_count": 48,
   "id": "3ccf018b",
   "metadata": {},
   "outputs": [],
   "source": [
    "import cv2\n",
    "import os\n",
    "import pandas as pd\n",
    "from tensorflow.python.keras.preprocessing.image import ImageDataGenerator"
   ]
  },
  {
   "cell_type": "code",
   "execution_count": 49,
   "id": "f5b32342",
   "metadata": {},
   "outputs": [],
   "source": [
    "#Informacion\n",
    "dir_img=r'C:\\Users\\kvnsg\\Desktop\\ML\\Proyecto\\Images'\n",
    "list_dirimg=[]\n",
    "clases=[]\n",
    "etiquetas=[]"
   ]
  },
  {
   "cell_type": "code",
   "execution_count": 50,
   "id": "c872a084",
   "metadata": {},
   "outputs": [
    {
     "name": "stdout",
     "output_type": "stream",
     "text": [
      "['fresh_apple', 'fresh_banana', 'fresh_bitter_gourd', 'fresh_capsicum', 'fresh_orange', 'fresh_tomato', 'stale_apple', 'stale_banana', 'stale_bitter_gourd', 'stale_capsicum', 'stale_orange', 'stale_tomato']\n"
     ]
    }
   ],
   "source": [
    "##Obtener clases\n",
    "clases=os.listdir(dir_img)\n",
    "print(clases)"
   ]
  },
  {
   "cell_type": "code",
   "execution_count": 51,
   "id": "466c2db7",
   "metadata": {},
   "outputs": [],
   "source": [
    "##Obtener un DF con las rutas de las imagenes y su correspondiente etiqueta\n",
    "def loadImg(clases,dir_img):    \n",
    "    for i in clases:\n",
    "        dir_clase=os.path.join(dir_img,i)#Obtener la ruta de cada clase\n",
    "        if os.path.isdir(dir_clase):     #Pregunta si el directorio existe\n",
    "            nombreImg=os.listdir(dir_clase)  \n",
    "            for j in nombreImg:\n",
    "                rutaImg=os.path.join(dir_clase,j)#Obtener la ruta de cada imagen\n",
    "                list_dirimg.append(rutaImg)      #Agrega un ítem al final de la lista.     \n",
    "                etiquetas.append(i) \n",
    "    Rseries= pd.Series(list_dirimg, name='ruta_imagenes') #Vector con datos indexados\n",
    "    Eseries=pd.Series(etiquetas, name='Etiqueta')    \n",
    "    df=pd.concat([Rseries, Eseries], axis=1)\n",
    "    return df"
   ]
  },
  {
   "cell_type": "code",
   "execution_count": 52,
   "id": "29ddfeb5",
   "metadata": {},
   "outputs": [],
   "source": [
    "df=loadImg(clases,dir_img)"
   ]
  },
  {
   "cell_type": "code",
   "execution_count": 53,
   "id": "3a718586",
   "metadata": {},
   "outputs": [
    {
     "data": {
      "text/html": [
       "<div>\n",
       "<style scoped>\n",
       "    .dataframe tbody tr th:only-of-type {\n",
       "        vertical-align: middle;\n",
       "    }\n",
       "\n",
       "    .dataframe tbody tr th {\n",
       "        vertical-align: top;\n",
       "    }\n",
       "\n",
       "    .dataframe thead th {\n",
       "        text-align: right;\n",
       "    }\n",
       "</style>\n",
       "<table border=\"1\" class=\"dataframe\">\n",
       "  <thead>\n",
       "    <tr style=\"text-align: right;\">\n",
       "      <th></th>\n",
       "      <th>ruta_imagenes</th>\n",
       "      <th>Etiqueta</th>\n",
       "    </tr>\n",
       "  </thead>\n",
       "  <tbody>\n",
       "    <tr>\n",
       "      <th>0</th>\n",
       "      <td>C:\\Users\\kvnsg\\Desktop\\ML\\Proyecto\\Images\\fres...</td>\n",
       "      <td>fresh_apple</td>\n",
       "    </tr>\n",
       "    <tr>\n",
       "      <th>1</th>\n",
       "      <td>C:\\Users\\kvnsg\\Desktop\\ML\\Proyecto\\Images\\fres...</td>\n",
       "      <td>fresh_apple</td>\n",
       "    </tr>\n",
       "    <tr>\n",
       "      <th>2</th>\n",
       "      <td>C:\\Users\\kvnsg\\Desktop\\ML\\Proyecto\\Images\\fres...</td>\n",
       "      <td>fresh_apple</td>\n",
       "    </tr>\n",
       "    <tr>\n",
       "      <th>3</th>\n",
       "      <td>C:\\Users\\kvnsg\\Desktop\\ML\\Proyecto\\Images\\fres...</td>\n",
       "      <td>fresh_apple</td>\n",
       "    </tr>\n",
       "    <tr>\n",
       "      <th>4</th>\n",
       "      <td>C:\\Users\\kvnsg\\Desktop\\ML\\Proyecto\\Images\\fres...</td>\n",
       "      <td>fresh_apple</td>\n",
       "    </tr>\n",
       "    <tr>\n",
       "      <th>...</th>\n",
       "      <td>...</td>\n",
       "      <td>...</td>\n",
       "    </tr>\n",
       "    <tr>\n",
       "      <th>14677</th>\n",
       "      <td>C:\\Users\\kvnsg\\Desktop\\ML\\Proyecto\\Images\\stal...</td>\n",
       "      <td>stale_tomato</td>\n",
       "    </tr>\n",
       "    <tr>\n",
       "      <th>14678</th>\n",
       "      <td>C:\\Users\\kvnsg\\Desktop\\ML\\Proyecto\\Images\\stal...</td>\n",
       "      <td>stale_tomato</td>\n",
       "    </tr>\n",
       "    <tr>\n",
       "      <th>14679</th>\n",
       "      <td>C:\\Users\\kvnsg\\Desktop\\ML\\Proyecto\\Images\\stal...</td>\n",
       "      <td>stale_tomato</td>\n",
       "    </tr>\n",
       "    <tr>\n",
       "      <th>14680</th>\n",
       "      <td>C:\\Users\\kvnsg\\Desktop\\ML\\Proyecto\\Images\\stal...</td>\n",
       "      <td>stale_tomato</td>\n",
       "    </tr>\n",
       "    <tr>\n",
       "      <th>14681</th>\n",
       "      <td>C:\\Users\\kvnsg\\Desktop\\ML\\Proyecto\\Images\\stal...</td>\n",
       "      <td>stale_tomato</td>\n",
       "    </tr>\n",
       "  </tbody>\n",
       "</table>\n",
       "<p>14682 rows × 2 columns</p>\n",
       "</div>"
      ],
      "text/plain": [
       "                                           ruta_imagenes      Etiqueta\n",
       "0      C:\\Users\\kvnsg\\Desktop\\ML\\Proyecto\\Images\\fres...   fresh_apple\n",
       "1      C:\\Users\\kvnsg\\Desktop\\ML\\Proyecto\\Images\\fres...   fresh_apple\n",
       "2      C:\\Users\\kvnsg\\Desktop\\ML\\Proyecto\\Images\\fres...   fresh_apple\n",
       "3      C:\\Users\\kvnsg\\Desktop\\ML\\Proyecto\\Images\\fres...   fresh_apple\n",
       "4      C:\\Users\\kvnsg\\Desktop\\ML\\Proyecto\\Images\\fres...   fresh_apple\n",
       "...                                                  ...           ...\n",
       "14677  C:\\Users\\kvnsg\\Desktop\\ML\\Proyecto\\Images\\stal...  stale_tomato\n",
       "14678  C:\\Users\\kvnsg\\Desktop\\ML\\Proyecto\\Images\\stal...  stale_tomato\n",
       "14679  C:\\Users\\kvnsg\\Desktop\\ML\\Proyecto\\Images\\stal...  stale_tomato\n",
       "14680  C:\\Users\\kvnsg\\Desktop\\ML\\Proyecto\\Images\\stal...  stale_tomato\n",
       "14681  C:\\Users\\kvnsg\\Desktop\\ML\\Proyecto\\Images\\stal...  stale_tomato\n",
       "\n",
       "[14682 rows x 2 columns]"
      ]
     },
     "execution_count": 53,
     "metadata": {},
     "output_type": "execute_result"
    }
   ],
   "source": [
    "df"
   ]
  },
  {
   "cell_type": "code",
   "execution_count": 54,
   "id": "f022b961",
   "metadata": {},
   "outputs": [],
   "source": [
    "iFB=df.index[df['Etiqueta'] == 'fresh_bitter_gourd']\n",
    "iSB=df.index[df['Etiqueta'] == 'stale_bitter_gourd']"
   ]
  },
  {
   "cell_type": "code",
   "execution_count": 55,
   "id": "4d82ccd2",
   "metadata": {},
   "outputs": [],
   "source": [
    "df_FB=df.loc[iFB.values.tolist(), ['ruta_imagenes','Etiqueta']]\n",
    "df_SB=df.loc[iSB.values.tolist(), ['ruta_imagenes','Etiqueta']]"
   ]
  },
  {
   "cell_type": "code",
   "execution_count": 56,
   "id": "de25c2fc",
   "metadata": {},
   "outputs": [
    {
     "data": {
      "text/html": [
       "<div>\n",
       "<style scoped>\n",
       "    .dataframe tbody tr th:only-of-type {\n",
       "        vertical-align: middle;\n",
       "    }\n",
       "\n",
       "    .dataframe tbody tr th {\n",
       "        vertical-align: top;\n",
       "    }\n",
       "\n",
       "    .dataframe thead th {\n",
       "        text-align: right;\n",
       "    }\n",
       "</style>\n",
       "<table border=\"1\" class=\"dataframe\">\n",
       "  <thead>\n",
       "    <tr style=\"text-align: right;\">\n",
       "      <th></th>\n",
       "      <th>ruta_imagenes</th>\n",
       "      <th>Etiqueta</th>\n",
       "    </tr>\n",
       "  </thead>\n",
       "  <tbody>\n",
       "    <tr>\n",
       "      <th>3274</th>\n",
       "      <td>C:\\Users\\kvnsg\\Desktop\\ML\\Proyecto\\Images\\fres...</td>\n",
       "      <td>fresh_bitter_gourd</td>\n",
       "    </tr>\n",
       "    <tr>\n",
       "      <th>3275</th>\n",
       "      <td>C:\\Users\\kvnsg\\Desktop\\ML\\Proyecto\\Images\\fres...</td>\n",
       "      <td>fresh_bitter_gourd</td>\n",
       "    </tr>\n",
       "    <tr>\n",
       "      <th>3276</th>\n",
       "      <td>C:\\Users\\kvnsg\\Desktop\\ML\\Proyecto\\Images\\fres...</td>\n",
       "      <td>fresh_bitter_gourd</td>\n",
       "    </tr>\n",
       "    <tr>\n",
       "      <th>3277</th>\n",
       "      <td>C:\\Users\\kvnsg\\Desktop\\ML\\Proyecto\\Images\\fres...</td>\n",
       "      <td>fresh_bitter_gourd</td>\n",
       "    </tr>\n",
       "    <tr>\n",
       "      <th>3278</th>\n",
       "      <td>C:\\Users\\kvnsg\\Desktop\\ML\\Proyecto\\Images\\fres...</td>\n",
       "      <td>fresh_bitter_gourd</td>\n",
       "    </tr>\n",
       "  </tbody>\n",
       "</table>\n",
       "</div>"
      ],
      "text/plain": [
       "                                          ruta_imagenes            Etiqueta\n",
       "3274  C:\\Users\\kvnsg\\Desktop\\ML\\Proyecto\\Images\\fres...  fresh_bitter_gourd\n",
       "3275  C:\\Users\\kvnsg\\Desktop\\ML\\Proyecto\\Images\\fres...  fresh_bitter_gourd\n",
       "3276  C:\\Users\\kvnsg\\Desktop\\ML\\Proyecto\\Images\\fres...  fresh_bitter_gourd\n",
       "3277  C:\\Users\\kvnsg\\Desktop\\ML\\Proyecto\\Images\\fres...  fresh_bitter_gourd\n",
       "3278  C:\\Users\\kvnsg\\Desktop\\ML\\Proyecto\\Images\\fres...  fresh_bitter_gourd"
      ]
     },
     "execution_count": 56,
     "metadata": {},
     "output_type": "execute_result"
    }
   ],
   "source": [
    "df_FB.head()"
   ]
  },
  {
   "cell_type": "code",
   "execution_count": 57,
   "id": "a1d40117",
   "metadata": {},
   "outputs": [
    {
     "data": {
      "text/html": [
       "<div>\n",
       "<style scoped>\n",
       "    .dataframe tbody tr th:only-of-type {\n",
       "        vertical-align: middle;\n",
       "    }\n",
       "\n",
       "    .dataframe tbody tr th {\n",
       "        vertical-align: top;\n",
       "    }\n",
       "\n",
       "    .dataframe thead th {\n",
       "        text-align: right;\n",
       "    }\n",
       "</style>\n",
       "<table border=\"1\" class=\"dataframe\">\n",
       "  <thead>\n",
       "    <tr style=\"text-align: right;\">\n",
       "      <th></th>\n",
       "      <th>ruta_imagenes</th>\n",
       "      <th>Etiqueta</th>\n",
       "    </tr>\n",
       "  </thead>\n",
       "  <tbody>\n",
       "    <tr>\n",
       "      <th>10847</th>\n",
       "      <td>C:\\Users\\kvnsg\\Desktop\\ML\\Proyecto\\Images\\stal...</td>\n",
       "      <td>stale_bitter_gourd</td>\n",
       "    </tr>\n",
       "    <tr>\n",
       "      <th>10848</th>\n",
       "      <td>C:\\Users\\kvnsg\\Desktop\\ML\\Proyecto\\Images\\stal...</td>\n",
       "      <td>stale_bitter_gourd</td>\n",
       "    </tr>\n",
       "    <tr>\n",
       "      <th>10849</th>\n",
       "      <td>C:\\Users\\kvnsg\\Desktop\\ML\\Proyecto\\Images\\stal...</td>\n",
       "      <td>stale_bitter_gourd</td>\n",
       "    </tr>\n",
       "    <tr>\n",
       "      <th>10850</th>\n",
       "      <td>C:\\Users\\kvnsg\\Desktop\\ML\\Proyecto\\Images\\stal...</td>\n",
       "      <td>stale_bitter_gourd</td>\n",
       "    </tr>\n",
       "    <tr>\n",
       "      <th>10851</th>\n",
       "      <td>C:\\Users\\kvnsg\\Desktop\\ML\\Proyecto\\Images\\stal...</td>\n",
       "      <td>stale_bitter_gourd</td>\n",
       "    </tr>\n",
       "  </tbody>\n",
       "</table>\n",
       "</div>"
      ],
      "text/plain": [
       "                                           ruta_imagenes            Etiqueta\n",
       "10847  C:\\Users\\kvnsg\\Desktop\\ML\\Proyecto\\Images\\stal...  stale_bitter_gourd\n",
       "10848  C:\\Users\\kvnsg\\Desktop\\ML\\Proyecto\\Images\\stal...  stale_bitter_gourd\n",
       "10849  C:\\Users\\kvnsg\\Desktop\\ML\\Proyecto\\Images\\stal...  stale_bitter_gourd\n",
       "10850  C:\\Users\\kvnsg\\Desktop\\ML\\Proyecto\\Images\\stal...  stale_bitter_gourd\n",
       "10851  C:\\Users\\kvnsg\\Desktop\\ML\\Proyecto\\Images\\stal...  stale_bitter_gourd"
      ]
     },
     "execution_count": 57,
     "metadata": {},
     "output_type": "execute_result"
    }
   ],
   "source": [
    "df_SB.head()"
   ]
  },
  {
   "cell_type": "code",
   "execution_count": 58,
   "id": "b9dbc802",
   "metadata": {},
   "outputs": [],
   "source": [
    "#Configuración\n",
    "FSB_datagen=ImageDataGenerator(\n",
    "    shear_range=0.3, #Inclina las imágenes\n",
    "    zoom_range=0.3,  #Hacer zoom a las imágenes\n",
    "    horizontal_flip=True #Invierta la imágenen de manera horizontal\n",
    ")"
   ]
  },
  {
   "cell_type": "code",
   "execution_count": 59,
   "id": "d0171e68",
   "metadata": {},
   "outputs": [],
   "source": [
    "#Aplicación\n",
    "def aumentoDatos(df,datagen,bs,x):\n",
    "    imGen=datagen.flow_from_dataframe( \n",
    "        df,\n",
    "        directory=None,\n",
    "        x_col=x, \n",
    "        y_col='Etiqueta',\n",
    "        weight_col=None,\n",
    "        target_size=(128,128),\n",
    "        color_mode='rgb',\n",
    "        classes=None,\n",
    "        class_mode='categorical',\n",
    "        batch_size=bs)\n",
    "    return imGen"
   ]
  },
  {
   "cell_type": "code",
   "execution_count": 60,
   "id": "9a31de66",
   "metadata": {},
   "outputs": [
    {
     "name": "stdout",
     "output_type": "stream",
     "text": [
      "Found 327 validated image filenames belonging to 1 classes.\n",
      "Found 357 validated image filenames belonging to 1 classes.\n"
     ]
    }
   ],
   "source": [
    "gen_FB=aumentoDatos(df_FB,FSB_datagen,1,'ruta_imagenes')\n",
    "gen_SB=aumentoDatos(df_SB,FSB_datagen,1,'ruta_imagenes')"
   ]
  },
  {
   "cell_type": "code",
   "execution_count": 75,
   "id": "cff96256",
   "metadata": {},
   "outputs": [],
   "source": [
    "def guardarImg(datagen, bs,ruta):\n",
    "    datagen.reset()\n",
    "    for i in range(int(len(datagen)/bs)):\n",
    "        img, label = next(datagen)\n",
    "        imgcv2=img[0][:,:,::-1]\n",
    "        cv2.imwrite('C:/Users/kvnsg/Desktop/ML/Proyecto/Balanceo/'+ruta+'-image-'+str(i)+'.png',imgcv2) "
   ]
  },
  {
   "cell_type": "code",
   "execution_count": 76,
   "id": "a43552f9",
   "metadata": {},
   "outputs": [],
   "source": [
    "rutaFB='fresh_bitter_gourd/fb'\n",
    "rutaSB='stale_bitter_gourd/sb'"
   ]
  },
  {
   "cell_type": "code",
   "execution_count": 77,
   "id": "b8758786",
   "metadata": {},
   "outputs": [],
   "source": [
    "guardarImg(gen_FB, 1,rutaFB)"
   ]
  },
  {
   "cell_type": "code",
   "execution_count": 78,
   "id": "634c10ac",
   "metadata": {},
   "outputs": [],
   "source": [
    "guardarImg(gen_SB, 1,rutaSB)"
   ]
  }
 ],
 "metadata": {
  "kernelspec": {
   "display_name": "Python 3",
   "language": "python",
   "name": "python3"
  },
  "language_info": {
   "codemirror_mode": {
    "name": "ipython",
    "version": 3
   },
   "file_extension": ".py",
   "mimetype": "text/x-python",
   "name": "python",
   "nbconvert_exporter": "python",
   "pygments_lexer": "ipython3",
   "version": "3.6.13"
  }
 },
 "nbformat": 4,
 "nbformat_minor": 5
}
